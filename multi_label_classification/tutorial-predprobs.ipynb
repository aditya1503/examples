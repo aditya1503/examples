{
 "cells": [
  {
   "cell_type": "code",
   "execution_count": 102,
   "id": "d263f485-5524-4400-aef6-c9d4b86e151c",
   "metadata": {},
   "outputs": [],
   "source": [
    "import numpy as np\n",
    "from cleanlab.filter import find_label_issues"
   ]
  },
  {
   "cell_type": "code",
   "execution_count": 104,
   "id": "6fd3eeff-d4c2-47a9-a2db-b7967b549061",
   "metadata": {},
   "outputs": [
    {
     "ename": "FileNotFoundError",
     "evalue": "[Errno 2] No such file or directory: 'pred_probs.npy'",
     "output_type": "error",
     "traceback": [
      "\u001b[0;31m---------------------------------------------------------------------------\u001b[0m",
      "\u001b[0;31mFileNotFoundError\u001b[0m                         Traceback (most recent call last)",
      "Input \u001b[0;32mIn [104]\u001b[0m, in \u001b[0;36m<cell line: 1>\u001b[0;34m()\u001b[0m\n\u001b[0;32m----> 1\u001b[0m pred_probs \u001b[38;5;241m=\u001b[39m \u001b[43mnp\u001b[49m\u001b[38;5;241;43m.\u001b[39;49m\u001b[43mload\u001b[49m\u001b[43m(\u001b[49m\u001b[38;5;124;43m'\u001b[39;49m\u001b[38;5;124;43mpred_probs.npy\u001b[39;49m\u001b[38;5;124;43m'\u001b[39;49m\u001b[43m)\u001b[49m\n",
      "File \u001b[0;32m~/opt/anaconda3/lib/python3.9/site-packages/numpy/lib/npyio.py:417\u001b[0m, in \u001b[0;36mload\u001b[0;34m(file, mmap_mode, allow_pickle, fix_imports, encoding)\u001b[0m\n\u001b[1;32m    415\u001b[0m     own_fid \u001b[38;5;241m=\u001b[39m \u001b[38;5;28;01mFalse\u001b[39;00m\n\u001b[1;32m    416\u001b[0m \u001b[38;5;28;01melse\u001b[39;00m:\n\u001b[0;32m--> 417\u001b[0m     fid \u001b[38;5;241m=\u001b[39m stack\u001b[38;5;241m.\u001b[39menter_context(\u001b[38;5;28;43mopen\u001b[39;49m\u001b[43m(\u001b[49m\u001b[43mos_fspath\u001b[49m\u001b[43m(\u001b[49m\u001b[43mfile\u001b[49m\u001b[43m)\u001b[49m\u001b[43m,\u001b[49m\u001b[43m \u001b[49m\u001b[38;5;124;43m\"\u001b[39;49m\u001b[38;5;124;43mrb\u001b[39;49m\u001b[38;5;124;43m\"\u001b[39;49m\u001b[43m)\u001b[49m)\n\u001b[1;32m    418\u001b[0m     own_fid \u001b[38;5;241m=\u001b[39m \u001b[38;5;28;01mTrue\u001b[39;00m\n\u001b[1;32m    420\u001b[0m \u001b[38;5;66;03m# Code to distinguish from NumPy binary files and pickles.\u001b[39;00m\n",
      "\u001b[0;31mFileNotFoundError\u001b[0m: [Errno 2] No such file or directory: 'pred_probs.npy'"
     ]
    }
   ],
   "source": [
    "pred_probs = np.load('pred_probs.npy')"
   ]
  },
  {
   "cell_type": "code",
   "execution_count": 64,
   "id": "0790e633-dd4b-4217-b32f-3e33ed56e739",
   "metadata": {},
   "outputs": [],
   "source": [
    "labels= pickle.load(open(\"labels_test.p\",'rb'))"
   ]
  },
  {
   "cell_type": "code",
   "execution_count": 65,
   "id": "82062db7-703b-431b-894e-6bc240c60585",
   "metadata": {},
   "outputs": [],
   "source": [
    "labels= np.array(list(labels.values())).T"
   ]
  },
  {
   "cell_type": "code",
   "execution_count": 66,
   "id": "2227068f-4382-4e66-b2e4-4fc037223128",
   "metadata": {},
   "outputs": [],
   "source": [
    "\n",
    "def convert_multilabel_y_to_list(y):\n",
    "    yl = list()\n",
    "    for i in range(y.shape[0]):\n",
    "        yl.append(np.where(y[i,:])[0].tolist())\n",
    "    return yl    "
   ]
  },
  {
   "cell_type": "code",
   "execution_count": 67,
   "id": "0583c4ae-918e-4b23-983f-842ddab3465b",
   "metadata": {},
   "outputs": [],
   "source": [
    "multi_labels = convert_multilabel_y_to_list(labels)"
   ]
  },
  {
   "cell_type": "code",
   "execution_count": null,
   "id": "55b5c376-2c02-43d0-a5fc-ceef6f80b0e2",
   "metadata": {},
   "outputs": [],
   "source": []
  },
  {
   "cell_type": "code",
   "execution_count": 101,
   "id": "a5780c90-df16-4f74-9419-a585d450da28",
   "metadata": {},
   "outputs": [
    {
     "data": {
      "text/plain": [
       "array([[False, False,  True, False,  True, False, False,  True, False,\n",
       "        False, False],\n",
       "       [ True, False,  True, False, False, False, False, False, False,\n",
       "        False, False],\n",
       "       [False, False,  True, False, False, False, False, False, False,\n",
       "        False, False],\n",
       "       [ True,  True,  True, False, False, False, False, False, False,\n",
       "        False, False],\n",
       "       [False, False,  True, False, False,  True, False, False, False,\n",
       "        False, False],\n",
       "       [ True,  True,  True, False, False, False, False,  True, False,\n",
       "        False, False],\n",
       "       [False, False,  True, False, False, False, False, False, False,\n",
       "        False, False],\n",
       "       [False, False,  True, False, False, False, False, False, False,\n",
       "        False, False],\n",
       "       [False, False, False, False, False, False, False, False, False,\n",
       "        False, False],\n",
       "       [False,  True,  True, False, False, False, False,  True, False,\n",
       "        False, False],\n",
       "       [ True, False,  True, False, False, False, False, False, False,\n",
       "        False, False],\n",
       "       [ True, False,  True, False, False, False, False, False, False,\n",
       "        False, False],\n",
       "       [False, False,  True, False, False, False, False, False, False,\n",
       "        False, False],\n",
       "       [False, False, False, False, False, False,  True, False, False,\n",
       "        False, False],\n",
       "       [False, False, False, False, False, False, False, False, False,\n",
       "        False, False]])"
      ]
     },
     "execution_count": 101,
     "metadata": {},
     "output_type": "execute_result"
    }
   ],
   "source": [
    "pred_proba[[18021, 11298,  6595,  9085, 17595,  5600, 14915, 19012, 15135,\n",
    "       15709,  6670, 15459,   407, 16255, 14664]]>1"
   ]
  },
  {
   "cell_type": "code",
   "execution_count": null,
   "id": "cbbcf31c-1df7-4d42-9285-238070ad1ba3",
   "metadata": {},
   "outputs": [],
   "source": [
    "import numpy as np\n",
    "w = 10\n",
    "h = 10\n",
    "fig = plt.figure(figsize=(64, 64))\n",
    "columns = 1\n",
    "rows = 15\n",
    "ct=0\n",
    "for i in range(1, columns*rows +1):\n",
    "    label_error = labels_errors[ct]\n",
    "    \n",
    "    path = \"/aditya/chipbrain/cleanlab/celaba/img_align_celeba/img_align_celeba/\"+label_error[0]\n",
    "    img = torchvision.io.read_image(path).swapaxes(0,2).swapaxes(0,1)\n",
    "    fig.add_subplot(rows, columns, i)\n",
    "    plt.axis('off')\n",
    "    plt.imshow(img)\n",
    "    plt.text(200, 50, label_error[0], bbox=dict(fill=False, edgecolor='black', linewidth=1))\n",
    "    plt.text(200, 100, label_error[1:], bbox=dict(fill=False, edgecolor='red', linewidth=1))\n",
    "    plt.text(200, 150, pred_labels_list[ct], bbox=dict(fill=False, edgecolor='green', linewidth=1))\n",
    "    ct+=1\n",
    "plt.savefig(\"errors.pdf\")"
   ]
  },
  {
   "cell_type": "code",
   "execution_count": null,
   "id": "17ab73ec-2490-42e4-af1e-bddf0c97ab33",
   "metadata": {},
   "outputs": [],
   "source": []
  }
 ],
 "metadata": {
  "kernelspec": {
   "display_name": "Python 3 (ipykernel)",
   "language": "python",
   "name": "python3"
  },
  "language_info": {
   "codemirror_mode": {
    "name": "ipython",
    "version": 3
   },
   "file_extension": ".py",
   "mimetype": "text/x-python",
   "name": "python",
   "nbconvert_exporter": "python",
   "pygments_lexer": "ipython3",
   "version": "3.9.12"
  }
 },
 "nbformat": 4,
 "nbformat_minor": 5
}
