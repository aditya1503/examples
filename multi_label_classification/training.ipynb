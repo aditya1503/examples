{
 "cells": [
  {
   "cell_type": "code",
   "execution_count": 1,
   "metadata": {},
   "outputs": [],
   "source": [
    "import timm\n",
    "from torch import nn\n",
    "from timm.data.loader import create_loader\n",
    "import torch.utils.data as data\n",
    "\n",
    "import pandas as pd\n",
    "\n"
   ]
  },
  {
   "cell_type": "code",
   "execution_count": 2,
   "metadata": {},
   "outputs": [],
   "source": [
    "\n",
    "class MultiLabelModel(nn.Module):\n",
    "    def __init__(self, model, n_classes):\n",
    "        super().__init__()\n",
    "        self.base_model = model\n",
    "#         self.out = nn.Sequential(\n",
    "#             nn.Dropout(p=0.2),\n",
    "#             nn.Linear(in_features=last_channel, out_features=n_classes)\n",
    "#         )\n",
    "        self.WEIGHTS = [1/n_classes]*n_classes\n",
    "        self.num_classes = n_classes\n",
    "\n",
    "    def forward(self, x):\n",
    "        x = self.base_model(x)\n",
    "        \n",
    "        x = torch.flatten(x, 1)\n",
    "\n",
    "        return x\n",
    "\n",
    "    def get_loss(self,loss_fn, output, target):\n",
    "        losses = 0.0\n",
    "        for i in range(0,self.num_classes):\n",
    "            losses+=self.WEIGHTS[i]* loss_fn(output[i], target[i].cuda())\n",
    "        return losses\n",
    "    def as_sequential_for_ML(self):\n",
    "\n",
    "        layers = [self.conv_stem, self.bn1, self.act1]\n",
    "        layers.extend(self.blocks)\n",
    "        layers.extend([self.conv_head, self.bn2, self.act2])\n",
    "        return nn.Sequential(*layers)\n",
    "    \n",
    "from PIL import Image\n"
   ]
  },
  {
   "cell_type": "code",
   "execution_count": 3,
   "metadata": {},
   "outputs": [],
   "source": [
    "class DatasetMultiLabel(data.Dataset):\n",
    "    def __init__(\n",
    "            self,\n",
    "            annotation_path,\n",
    "            transform=None):\n",
    "\n",
    "        super().__init__()\n",
    "\n",
    "        self.transform = transform\n",
    "\n",
    "        # initialize the arrays to store the ground truth labels and paths to the images\n",
    "        self.data = []\n",
    "        self.labels = []\n",
    "        self.label_names = []\n",
    "        # read the annotations from the CSV file\n",
    "        df = pd.read_csv(annotation_path)\n",
    "        cols = df.columns\n",
    "        self.label_names = list(cols[1:])\n",
    "        for i,row in df.iterrows():\n",
    "            lb = []\n",
    "            for j in cols:\n",
    "                if j=='image_path':\n",
    "                    self.data.append(row[j])\n",
    "                else:\n",
    "                    lb.append(float(row[j]))\n",
    "            self.labels.append(lb)\n",
    "                \n",
    "    def __getitem__(self, idx):\n",
    "        # take the data sample by its index\n",
    "        img_path = self.data[idx]\n",
    "\n",
    "        # read image\n",
    "        img = Image.open(img_path)\n",
    "\n",
    "        # apply the image augmentations if needed\n",
    "        if self.transform:\n",
    "            img = self.transform(img)\n",
    "\n",
    "        labels = self.labels[idx]\n",
    "\n",
    "        return img, labels\n",
    "\n",
    "    def __len__(self):\n",
    "        # return len(self.samples)\n",
    "        return len(self.data)"
   ]
  },
  {
   "cell_type": "code",
   "execution_count": 5,
   "metadata": {},
   "outputs": [],
   "source": [
    "dataset_train = DatasetMultiLabel(\"img_align_celeba/train.csv\")\n",
    "dataset_val = DatasetMultiLabel(\"img_align_celeba/val.csv\")"
   ]
  },
  {
   "cell_type": "code",
   "execution_count": 6,
   "metadata": {},
   "outputs": [],
   "source": [
    "from timm.data import (\n",
    "    resolve_data_config,\n",
    ")\n",
    "from timm.models import create_model"
   ]
  },
  {
   "cell_type": "code",
   "execution_count": 56,
   "metadata": {},
   "outputs": [
    {
     "data": {
      "text/plain": [
       "['Eyeglasses',\n",
       " 'Wearing_Earrings',\n",
       " 'Wearing_Hat',\n",
       " 'Wearing_Necklace',\n",
       " 'Wearing_Necktie']"
      ]
     },
     "execution_count": 56,
     "metadata": {},
     "output_type": "execute_result"
    }
   ],
   "source": [
    "dataset_train.label_names"
   ]
  },
  {
   "cell_type": "code",
   "execution_count": 7,
   "metadata": {},
   "outputs": [],
   "source": [
    "model = create_model(\n",
    "    'efficientnet_b0',\n",
    "    num_classes=len(dataset_val.labels[0]),\n",
    ")"
   ]
  },
  {
   "cell_type": "code",
   "execution_count": 8,
   "metadata": {},
   "outputs": [],
   "source": [
    "model = MultiLabelModel(\n",
    "        model,\n",
    "        n_classes=len(dataset_val.labels[0]),\n",
    "    ).cuda()"
   ]
  },
  {
   "cell_type": "code",
   "execution_count": 9,
   "metadata": {},
   "outputs": [],
   "source": [
    "from timm.optim import create_optimizer\n",
    "import pickle"
   ]
  },
  {
   "cell_type": "code",
   "execution_count": 10,
   "metadata": {},
   "outputs": [],
   "source": [
    "args = pickle.load(open(\"PyTorch-Image-Models-Multi-Label-Classification/args.p\",'rb'))"
   ]
  },
  {
   "cell_type": "code",
   "execution_count": null,
   "metadata": {},
   "outputs": [],
   "source": []
  },
  {
   "cell_type": "code",
   "execution_count": 11,
   "metadata": {},
   "outputs": [],
   "source": [
    "from types import SimpleNamespace\n",
    "args = SimpleNamespace()\n",
    "args.weight_decay = 0\n",
    "args.lr = 1e-4\n",
    "args.opt = 'adam' #'lookahead_adam' to use `lookahead`\n",
    "args.momentum = 0.9\n"
   ]
  },
  {
   "cell_type": "code",
   "execution_count": 12,
   "metadata": {},
   "outputs": [],
   "source": [
    "optimizer = create_optimizer(args, model)"
   ]
  },
  {
   "cell_type": "code",
   "execution_count": 13,
   "metadata": {},
   "outputs": [],
   "source": [
    "data_config = resolve_data_config(\n",
    "       args = {}, model=model\n",
    "    )"
   ]
  },
  {
   "cell_type": "code",
   "execution_count": 14,
   "metadata": {},
   "outputs": [],
   "source": [
    "loader_train = create_loader(\n",
    "    dataset_train,\n",
    "    input_size=data_config[\"input_size\"],\n",
    "    batch_size=64,\n",
    "    is_training=True,\n",
    "    mean=data_config[\"mean\"],\n",
    "    std=data_config[\"std\"],\n",
    "   interpolation=data_config[\"interpolation\"],\n",
    ")"
   ]
  },
  {
   "cell_type": "code",
   "execution_count": 15,
   "metadata": {},
   "outputs": [],
   "source": [
    "from timm.scheduler import create_scheduler\n"
   ]
  },
  {
   "cell_type": "code",
   "execution_count": null,
   "metadata": {},
   "outputs": [],
   "source": []
  },
  {
   "cell_type": "code",
   "execution_count": 16,
   "metadata": {},
   "outputs": [],
   "source": [
    "args.epochs = 1000"
   ]
  },
  {
   "cell_type": "code",
   "execution_count": 17,
   "metadata": {},
   "outputs": [],
   "source": [
    "args.sched = \"step\"\n",
    "args.decay_epochs = 30\n",
    "args.decay_rate = 0.1\n",
    "args.warmup_lr = 0.0001\n",
    "args.min_lr = 1e-5\n",
    "args.warmup_epochs = 3"
   ]
  },
  {
   "cell_type": "code",
   "execution_count": 18,
   "metadata": {},
   "outputs": [],
   "source": [
    "lr_scheduler, num_epochs = create_scheduler( args,optimizer)"
   ]
  },
  {
   "cell_type": "code",
   "execution_count": 19,
   "metadata": {},
   "outputs": [],
   "source": [
    "loader_val = create_loader(\n",
    "    dataset_val,\n",
    "    input_size=data_config[\"input_size\"],\n",
    "    batch_size=64,\n",
    "    is_training=False,\n",
    "    mean=data_config[\"mean\"],\n",
    "    std=data_config[\"std\"],\n",
    "    interpolation=data_config[\"interpolation\"],\n",
    "   \n",
    ")"
   ]
  },
  {
   "cell_type": "code",
   "execution_count": 20,
   "metadata": {},
   "outputs": [],
   "source": [
    "import torch    "
   ]
  },
  {
   "cell_type": "code",
   "execution_count": 21,
   "metadata": {},
   "outputs": [],
   "source": [
    "model.eval();"
   ]
  },
  {
   "cell_type": "code",
   "execution_count": 22,
   "metadata": {},
   "outputs": [],
   "source": [
    "loss_fn = nn.BCELoss()\n"
   ]
  },
  {
   "cell_type": "code",
   "execution_count": 58,
   "metadata": {},
   "outputs": [],
   "source": [
    "def validate(loader,model):\n",
    "    with torch.no_grad():\n",
    "        total_loss = 0\n",
    "        m = nn.Sigmoid()\n",
    "        ops = []\n",
    "        labels = []\n",
    "        preds = []\n",
    "        for batch_idx, (input, target) in enumerate(loader):\n",
    "            input = input.cuda()\n",
    "            labels.append(target.detach().cpu())\n",
    "            target = target.float().cuda()\n",
    "            output = m(model(input))\n",
    "            loss = model.get_loss(loss_fn, output, target)\n",
    "            total_loss += loss.item()\n",
    "            pred_model = (output>0.5).detach().cpu()\n",
    "            preds.append(pred_model)\n",
    "\n",
    "\n",
    "        num_of_batches_per_epoch = len(loader)\n",
    "        avg_loss = total_loss / num_of_batches_per_epoch\n",
    "        print(\"AVERAGE LOSS:\",avg_loss)\n",
    "        preds = torch.cat(preds).int()\n",
    "        labels = torch.cat(labels).int()\n",
    "        acc_score = accuracy_score(labels,preds)\n",
    "        print(\"MULTILABEL accuracy score:\",acc_score)\n",
    "        per_class = []\n",
    "        for i in range(len(preds.T)):\n",
    "            per_class.append(accuracy_score(labels.T[i],preds.T[i]))\n",
    "        print(dataset_train.label_names)\n",
    "        print(per_class)\n",
    "        return avg_loss"
   ]
  },
  {
   "cell_type": "code",
   "execution_count": 60,
   "metadata": {},
   "outputs": [
    {
     "name": "stdout",
     "output_type": "stream",
     "text": [
      "AVERAGE LOSS: 0.6931395322987528\n",
      "MULTILABEL accuracy score: 0.07576840600428877\n",
      "['Eyeglasses', 'Wearing_Earrings', 'Wearing_Hat', 'Wearing_Necklace', 'Wearing_Necktie']\n",
      "[0.7203955206099595, 0.45604002859185133, 0.6878722897307601, 0.4949964260185847, 0.4089826066237789]\n"
     ]
    },
    {
     "data": {
      "text/plain": [
       "0.6931395322987528"
      ]
     },
     "execution_count": 60,
     "metadata": {},
     "output_type": "execute_result"
    }
   ],
   "source": [
    "validate(loader_val,model)"
   ]
  },
  {
   "cell_type": "code",
   "execution_count": 25,
   "metadata": {},
   "outputs": [],
   "source": []
  },
  {
   "cell_type": "code",
   "execution_count": 26,
   "metadata": {},
   "outputs": [],
   "source": [
    "from sklearn.metrics import balanced_accuracy_score\n"
   ]
  },
  {
   "cell_type": "code",
   "execution_count": 32,
   "metadata": {},
   "outputs": [],
   "source": [
    "from imp import reload\n"
   ]
  },
  {
   "cell_type": "code",
   "execution_count": 33,
   "metadata": {},
   "outputs": [
    {
     "data": {
      "text/plain": [
       "<module 'sklearn' from '/usr/local/lib/python3.8/dist-packages/sklearn/__init__.py'>"
      ]
     },
     "execution_count": 33,
     "metadata": {},
     "output_type": "execute_result"
    }
   ],
   "source": [
    "reload(sklearn)"
   ]
  },
  {
   "cell_type": "code",
   "execution_count": 34,
   "metadata": {},
   "outputs": [],
   "source": [
    "import sklearn"
   ]
  },
  {
   "cell_type": "code",
   "execution_count": 35,
   "metadata": {},
   "outputs": [
    {
     "data": {
      "text/plain": [
       "'1.1.2'"
      ]
     },
     "execution_count": 35,
     "metadata": {},
     "output_type": "execute_result"
    }
   ],
   "source": [
    "sklearn.__version__"
   ]
  },
  {
   "cell_type": "code",
   "execution_count": 40,
   "metadata": {},
   "outputs": [],
   "source": [
    "import numpy as np\n",
    "from sklearn.metrics import accuracy_score"
   ]
  },
  {
   "cell_type": "code",
   "execution_count": 51,
   "metadata": {},
   "outputs": [
    {
     "data": {
      "text/plain": [
       "5"
      ]
     },
     "execution_count": 51,
     "metadata": {},
     "output_type": "execute_result"
    }
   ],
   "source": [
    "len(preds.T)"
   ]
  },
  {
   "cell_type": "code",
   "execution_count": 49,
   "metadata": {},
   "outputs": [
    {
     "data": {
      "text/plain": [
       "0.07576840600428877"
      ]
     },
     "execution_count": 49,
     "metadata": {},
     "output_type": "execute_result"
    }
   ],
   "source": [
    "accuracy_score(labels,preds)"
   ]
  },
  {
   "cell_type": "code",
   "execution_count": 77,
   "metadata": {},
   "outputs": [],
   "source": [
    "def train_one_epoch(\n",
    "    num_of_data_train,\n",
    "    epoch,\n",
    "    model,\n",
    "    loader,\n",
    "    optimizer,\n",
    "    loss_fn,\n",
    "    lr_scheduler=None,\n",
    "    saver=None,\n",
    "    output_dir=\"\",\n",
    "):\n",
    "    second_order = hasattr(optimizer, \"is_second_order\") and optimizer.is_second_order\n",
    "    model.train()\n",
    "    total_loss = 0\n",
    "    m = nn.Sigmoid()\n",
    "    ops = []\n",
    "    labels = []\n",
    "    preds = []\n",
    "    ct=0\n",
    "    for batch_idx, (input, target) in enumerate(loader):\n",
    "            input = input.cuda()\n",
    "            ct+=1\n",
    "            labels.append(target.detach().cpu())\n",
    "            target = target.float().cuda()\n",
    "            output = m(model(input))\n",
    "            loss = model.get_loss(loss_fn, output, target)\n",
    "            total_loss += loss.item()\n",
    "            pred_model = (output>0.5).detach().cpu()\n",
    "            preds.append(pred_model)\n",
    "            optimizer.zero_grad()\n",
    "            loss.backward(create_graph=second_order)\n",
    "            optimizer.step()\n",
    "            if ct%10==0:\n",
    "                print(\"LOSS:\",loss.item())\n",
    "    num_of_batches_per_epoch = len(loader)\n",
    "    avg_loss = total_loss / num_of_batches_per_epoch\n",
    "    print(\"AVERAGE LOSS:\",avg_loss)\n",
    "    preds = torch.cat(preds).int()\n",
    "    labels = torch.cat(labels).int()\n",
    "    acc_score = accuracy_score(labels,preds)\n",
    "    print(\"MULTILABEL accuracy score:\",acc_score)\n",
    "    per_class = []\n",
    "    for i in range(len(preds.T)):\n",
    "        per_class.append(accuracy_score(labels.T[i],preds.T[i]))\n",
    "    print(dataset_train.label_names)\n",
    "    print(per_class)\n",
    "    return avg_loss"
   ]
  },
  {
   "cell_type": "code",
   "execution_count": 64,
   "metadata": {},
   "outputs": [],
   "source": [
    "from timm.utils import CheckpointSaver\n"
   ]
  },
  {
   "cell_type": "code",
   "execution_count": 68,
   "metadata": {},
   "outputs": [],
   "source": [
    "saver = CheckpointSaver(\n",
    "            model=model,\n",
    "            optimizer=optimizer,\n",
    "    checkpoint_dir=\"weights\"\n",
    "        )"
   ]
  },
  {
   "cell_type": "code",
   "execution_count": 67,
   "metadata": {},
   "outputs": [
    {
     "name": "stdout",
     "output_type": "stream",
     "text": [
      "AVERAGE LOSS: 0.6931395322987528\n",
      "MULTILABEL accuracy score: 0.07576840600428877\n",
      "['Eyeglasses', 'Wearing_Earrings', 'Wearing_Hat', 'Wearing_Necklace', 'Wearing_Necktie']\n",
      "[0.7203955206099595, 0.45604002859185133, 0.6878722897307601, 0.4949964260185847, 0.4089826066237789]\n"
     ]
    }
   ],
   "source": [
    "eval_metrics = validate(loader_val,model)"
   ]
  },
  {
   "cell_type": "code",
   "execution_count": 72,
   "metadata": {},
   "outputs": [],
   "source": [
    "!mkdir weights"
   ]
  },
  {
   "cell_type": "code",
   "execution_count": 74,
   "metadata": {},
   "outputs": [],
   "source": [
    "save_metric = eval_metrics\n",
    "best_metric, best_epoch = saver.save_checkpoint(\n",
    "                    1, metric=save_metric\n",
    "                )"
   ]
  },
  {
   "cell_type": "code",
   "execution_count": 75,
   "metadata": {},
   "outputs": [],
   "source": [
    "num_of_data_train = len(dataset_train)"
   ]
  },
  {
   "cell_type": "code",
   "execution_count": null,
   "metadata": {
    "scrolled": true
   },
   "outputs": [
    {
     "name": "stdout",
     "output_type": "stream",
     "text": [
      "LOSS: 0.531355619430542\n",
      "LOSS: 0.5261980295181274\n",
      "LOSS: 0.48028263449668884\n",
      "LOSS: 0.5054075121879578\n",
      "LOSS: 0.6295892596244812\n",
      "LOSS: 0.5074624419212341\n",
      "LOSS: 0.4384707808494568\n",
      "LOSS: 0.9877334833145142\n",
      "LOSS: 0.38097047805786133\n",
      "LOSS: 0.4639021158218384\n",
      "LOSS: 0.4766576588153839\n",
      "LOSS: 0.4930850565433502\n",
      "LOSS: 0.4200809597969055\n",
      "LOSS: 0.5419005155563354\n",
      "LOSS: 0.45323246717453003\n",
      "LOSS: 0.5344032645225525\n",
      "LOSS: 0.5881763696670532\n",
      "LOSS: 0.4452283978462219\n",
      "LOSS: 0.5987139344215393\n",
      "LOSS: 0.560493528842926\n",
      "LOSS: 0.4783082902431488\n",
      "LOSS: 0.4484843313694\n",
      "LOSS: 0.46433520317077637\n",
      "LOSS: 0.7476933002471924\n",
      "LOSS: 0.6828913688659668\n",
      "LOSS: 1.27458655834198\n",
      "LOSS: 1.2565944194793701\n",
      "LOSS: 0.4073219895362854\n",
      "LOSS: 0.5153696537017822\n",
      "LOSS: 0.46481823921203613\n",
      "LOSS: 0.636134147644043\n",
      "LOSS: 0.9804605841636658\n",
      "LOSS: 0.6530095934867859\n",
      "LOSS: 0.46081069111824036\n",
      "LOSS: 0.4393851161003113\n",
      "LOSS: 0.44275766611099243\n",
      "LOSS: 0.5818337202072144\n",
      "LOSS: 0.5245600938796997\n",
      "LOSS: 0.4602753818035126\n",
      "LOSS: 0.6111949682235718\n",
      "LOSS: 0.5118802189826965\n",
      "LOSS: 0.5969167351722717\n",
      "LOSS: 0.603184163570404\n",
      "LOSS: 0.43104445934295654\n",
      "LOSS: 0.6094899773597717\n",
      "LOSS: 0.4006555676460266\n",
      "LOSS: 1.0438685417175293\n",
      "LOSS: 1.0215132236480713\n",
      "LOSS: 0.5411393642425537\n",
      "LOSS: 0.7787468433380127\n",
      "LOSS: 0.48356759548187256\n",
      "LOSS: 2.6416220664978027\n",
      "LOSS: 0.5861001014709473\n",
      "LOSS: 0.3959093689918518\n",
      "LOSS: 0.5088547468185425\n",
      "LOSS: 0.5598059296607971\n",
      "LOSS: 0.4905499517917633\n",
      "LOSS: 0.5165823101997375\n",
      "LOSS: 0.5317164659500122\n",
      "LOSS: 0.4567333161830902\n",
      "LOSS: 0.5019434690475464\n",
      "LOSS: 0.5737137794494629\n",
      "LOSS: 0.6119234561920166\n",
      "LOSS: 0.6248796582221985\n",
      "LOSS: 0.6043047904968262\n",
      "LOSS: 0.48093655705451965\n",
      "LOSS: 0.534751296043396\n",
      "LOSS: 0.4998934864997864\n",
      "LOSS: 0.599025309085846\n",
      "LOSS: 0.7186847925186157\n",
      "LOSS: 0.5013188123703003\n",
      "LOSS: 0.5384023189544678\n",
      "LOSS: 0.5016345977783203\n",
      "LOSS: 0.7014196515083313\n",
      "LOSS: 1.1276121139526367\n",
      "LOSS: 0.9159151315689087\n",
      "LOSS: 0.45475292205810547\n",
      "LOSS: 0.6265863180160522\n",
      "LOSS: 0.5987346172332764\n",
      "LOSS: 0.47931379079818726\n",
      "LOSS: 0.5480437874794006\n",
      "LOSS: 0.5403363704681396\n",
      "LOSS: 0.7435100078582764\n",
      "LOSS: 0.49598050117492676\n",
      "LOSS: 0.35486528277397156\n",
      "LOSS: 0.5236631631851196\n",
      "LOSS: 0.43909752368927\n",
      "LOSS: 1.0522048473358154\n",
      "LOSS: 0.7416052222251892\n",
      "LOSS: 0.4571322798728943\n",
      "LOSS: 0.46837010979652405\n",
      "LOSS: 0.5161377787590027\n",
      "LOSS: 0.46989333629608154\n",
      "LOSS: 0.40030837059020996\n",
      "LOSS: 0.49152836203575134\n",
      "LOSS: 0.551729679107666\n",
      "LOSS: 0.5111907720565796\n",
      "LOSS: 0.4830070436000824\n",
      "LOSS: 0.42359524965286255\n",
      "LOSS: 0.5499977469444275\n",
      "LOSS: 0.5332614183425903\n",
      "LOSS: 1.270566701889038\n",
      "LOSS: 0.4828130006790161\n",
      "LOSS: 0.6408116221427917\n",
      "AVERAGE LOSS: 0.6527076202761684\n",
      "MULTILABEL accuracy score: 0.11950369399428026\n",
      "['Eyeglasses', 'Wearing_Earrings', 'Wearing_Hat', 'Wearing_Necklace', 'Wearing_Necktie']\n",
      "[0.8325190657769304, 0.5280028598665396, 0.8792600095328885, 0.6923856053384175, 0.8181154671115348]\n",
      "AVERAGE LOSS: 0.9899003381530443\n",
      "MULTILABEL accuracy score: 0.05265665951870384\n",
      "['Eyeglasses', 'Wearing_Earrings', 'Wearing_Hat', 'Wearing_Necklace', 'Wearing_Necktie']\n",
      "[0.8475101262806767, 0.5534905885156064, 0.8842030021443888, 0.689421015010722, 0.7978317846080534]\n",
      "LOSS: 0.5086709856987\n",
      "LOSS: 0.5072091221809387\n",
      "LOSS: 0.422232985496521\n",
      "LOSS: 0.45237261056900024\n",
      "LOSS: 0.696911633014679\n",
      "LOSS: 1.1094599962234497\n",
      "LOSS: 0.47127094864845276\n",
      "LOSS: 0.4864186644554138\n",
      "LOSS: 0.5084033012390137\n",
      "LOSS: 0.5320488214492798\n",
      "LOSS: 0.6860392093658447\n",
      "LOSS: 0.4972904920578003\n",
      "LOSS: 0.5774210691452026\n",
      "LOSS: 0.542892575263977\n",
      "LOSS: 0.5042109489440918\n",
      "LOSS: 0.35929805040359497\n",
      "LOSS: 0.4099944829940796\n",
      "LOSS: 0.6364340782165527\n",
      "LOSS: 0.592879056930542\n",
      "LOSS: 0.7808020114898682\n",
      "LOSS: 0.9998791813850403\n",
      "LOSS: 0.6976572275161743\n",
      "LOSS: 0.6986435055732727\n",
      "LOSS: 0.47193384170532227\n",
      "LOSS: 1.410748839378357\n",
      "LOSS: 1.0755435228347778\n",
      "LOSS: 0.47227150201797485\n",
      "LOSS: 0.5150131583213806\n",
      "LOSS: 0.695336639881134\n",
      "LOSS: 0.9985669851303101\n",
      "LOSS: 0.746436595916748\n",
      "LOSS: 0.6308431625366211\n",
      "LOSS: 0.511427640914917\n",
      "LOSS: 0.4960610866546631\n",
      "LOSS: 0.5400221347808838\n",
      "LOSS: 0.7089784145355225\n",
      "LOSS: 0.8938066959381104\n",
      "LOSS: 0.39337626099586487\n",
      "LOSS: 0.9319726824760437\n",
      "LOSS: 0.5622948408126831\n",
      "LOSS: 0.40426963567733765\n",
      "LOSS: 0.4586469531059265\n",
      "LOSS: 0.7040097713470459\n",
      "LOSS: 0.4756307005882263\n",
      "LOSS: 0.3994655907154083\n",
      "LOSS: 0.6072895526885986\n",
      "LOSS: 0.6440644264221191\n",
      "LOSS: 0.45687374472618103\n",
      "LOSS: 0.5413419008255005\n",
      "LOSS: 0.5158650875091553\n",
      "LOSS: 0.4990198612213135\n",
      "LOSS: 0.5710625648498535\n",
      "LOSS: 0.6943985819816589\n",
      "LOSS: 0.5518366098403931\n",
      "LOSS: 0.4594152569770813\n",
      "LOSS: 0.4834509491920471\n",
      "LOSS: 0.6488829255104065\n",
      "LOSS: 0.5286146402359009\n",
      "LOSS: 0.6133796572685242\n",
      "LOSS: 0.44951245188713074\n",
      "LOSS: 0.5357927083969116\n",
      "LOSS: 0.43636107444763184\n",
      "LOSS: 0.5270785093307495\n",
      "LOSS: 0.5284786224365234\n",
      "LOSS: 0.4941560626029968\n",
      "LOSS: 0.4948135018348694\n",
      "LOSS: 0.4612933099269867\n",
      "LOSS: 0.45715415477752686\n",
      "LOSS: 0.6091440916061401\n",
      "LOSS: 0.5752741098403931\n",
      "LOSS: 0.5598006248474121\n",
      "LOSS: 0.696458101272583\n",
      "LOSS: 0.4180885851383209\n",
      "LOSS: 0.526583194732666\n",
      "LOSS: 0.423777312040329\n",
      "LOSS: 0.5519112348556519\n",
      "LOSS: 6.744599342346191\n",
      "LOSS: 4.858190059661865\n",
      "LOSS: 0.4580990672111511\n",
      "LOSS: 0.4808589816093445\n",
      "LOSS: 0.9635125398635864\n",
      "LOSS: 0.5316855311393738\n",
      "LOSS: 0.4568844437599182\n",
      "LOSS: 0.7528639435768127\n",
      "LOSS: 0.6147979497909546\n",
      "LOSS: 0.8465458154678345\n",
      "LOSS: 8.478363037109375\n",
      "LOSS: 0.49371641874313354\n",
      "LOSS: 0.37477412819862366\n",
      "LOSS: 0.5317042469978333\n"
     ]
    }
   ],
   "source": [
    "for epoch in range(0,1000):\n",
    "    loss_train = train_one_epoch(\n",
    "    num_of_data_train,\n",
    "    epoch,\n",
    "    model,\n",
    "    loader_train,\n",
    "    optimizer,\n",
    "    loss_fn,\n",
    "    lr_scheduler=lr_scheduler,\n",
    ")\n",
    "    saver.save_checkpoint(epoch,metric=loss_train)\n",
    "    validate(loader_val,model)"
   ]
  },
  {
   "cell_type": "code",
   "execution_count": 80,
   "metadata": {},
   "outputs": [
    {
     "name": "stdout",
     "output_type": "stream",
     "text": [
      "AVERAGE LOSS: 1.319113413944389\n",
      "MULTILABEL accuracy score: 0.0736240171551108\n",
      "['Eyeglasses', 'Wearing_Earrings', 'Wearing_Hat', 'Wearing_Necklace', 'Wearing_Necktie']\n",
      "[0.8314272099118418, 0.5141767929473433, 0.8825351441505838, 0.6566595187038361, 0.8195139385275196]\n"
     ]
    },
    {
     "data": {
      "text/plain": [
       "1.319113413944389"
      ]
     },
     "execution_count": 80,
     "metadata": {},
     "output_type": "execute_result"
    }
   ],
   "source": [
    "validate(loader_val,model)"
   ]
  },
  {
   "cell_type": "code",
   "execution_count": null,
   "metadata": {},
   "outputs": [],
   "source": []
  }
 ],
 "metadata": {
  "kernelspec": {
   "display_name": "Python 3",
   "language": "python",
   "name": "python3"
  },
  "language_info": {
   "codemirror_mode": {
    "name": "ipython",
    "version": 3
   },
   "file_extension": ".py",
   "mimetype": "text/x-python",
   "name": "python",
   "nbconvert_exporter": "python",
   "pygments_lexer": "ipython3",
   "version": "3.8.5"
  }
 },
 "nbformat": 4,
 "nbformat_minor": 4
}
